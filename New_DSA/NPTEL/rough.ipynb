{
 "cells": [
  {
   "cell_type": "code",
   "execution_count": 20,
   "metadata": {},
   "outputs": [],
   "source": [
    "import numpy as np\n",
    "import cv2"
   ]
  },
  {
   "cell_type": "code",
   "execution_count": 21,
   "metadata": {},
   "outputs": [],
   "source": [
    "def bit_plane_slicing(image):\n",
    "    # Initialize an empty list to store the bit planes\n",
    "    bit_planes = []\n",
    "\n",
    "    # Iterate through each bit position (from 0 to 7)\n",
    "    for bit_position in range(8):\n",
    "        # Create a mask for the current bit plane (bitwise AND operation)\n",
    "        mask = 1 << bit_position\n",
    "\n",
    "        # Extract the current bit plane by applying the mask\n",
    "        bit_plane = np.bitwise_and(image, mask)\n",
    "\n",
    "        # Normalize the pixel values to the range [0, 255]\n",
    "        bit_plane = bit_plane * 255\n",
    "\n",
    "        # Append the bit plane to the list\n",
    "        bit_planes.append(bit_plane)\n",
    "\n",
    "    return bit_planes"
   ]
  }
 ],
 "metadata": {
  "kernelspec": {
   "display_name": "Python 3 (ipykernel)",
   "language": "python",
   "name": "python3"
  },
  "language_info": {
   "codemirror_mode": {
    "name": "ipython",
    "version": 3
   },
   "file_extension": ".py",
   "mimetype": "text/x-python",
   "name": "python",
   "nbconvert_exporter": "python",
   "pygments_lexer": "ipython3",
   "version": "3.9.7"
  }
 },
 "nbformat": 4,
 "nbformat_minor": 2
}
